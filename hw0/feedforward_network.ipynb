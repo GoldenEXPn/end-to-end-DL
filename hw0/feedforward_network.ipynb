{
 "cells": [
  {
   "cell_type": "code",
   "id": "initial_id",
   "metadata": {
    "collapsed": true
   },
   "source": [
    "import torch\n",
    "import numpy as np\n",
    "import torch.nn as nn\n",
    "import torch.optim as optim\n",
    "import matplotlib.pyplot as plt\n",
    "from sklearn.preprocessing import StandardScaler"
   ],
   "outputs": [],
   "execution_count": null
  },
  {
   "metadata": {},
   "cell_type": "code",
   "source": [
    "class LinearNN(nn.Module):\n",
    "    def __init__(self):\n",
    "        super(LinearNN, self).__init__()\n",
    "        self.fc = nn.Linear(2,3)\n",
    "        self._initialize_weight()\n",
    "    def _initialize_weight(self):\n",
    "        torch.nn.init.kaiming_uniform_(self.fc.weight, nonlinearity='relu')\n",
    "        if self.fc.bias is not None:\n",
    "            torch.nn.init.constant_(self.fc.bias, 0)\n",
    "    def forward(self, x):\n",
    "        return self.fc(x)\n",
    "    \n",
    "class NonlinearNN(nn.Module):\n",
    "    def __init__(self):\n",
    "        super(NonlinearNN, self).__init__()\n",
    "        self.hidden = nn.Linear(2,5)\n",
    "        self.relu = nn.ReLU()\n",
    "        self.output = nn.Linear(5,3)\n",
    "    def _initialize_weight(self):\n",
    "        torch.nn.init.kaiming_uniform_(self.hidden.weight, nonlinearity='relu')\n",
    "        torch.nn.init.kaiming_uniform_(self.output.weight, nonlinearity='relu')\n",
    "        if self.hidden.bias is not None:\n",
    "            torch.nn.init.zeros_(self.hidden.bias)\n",
    "        if self.output.bias is not None:\n",
    "            torch.nn.init.zeros_(self.output.bias)    \n",
    "    def forward(self, x):\n",
    "        return self.output(self.relu(self.hidden(x)))\n",
    "\n",
    "\n",
    "def load_dataset(file_path):\n",
    "    data = np.loadtxt(file_path)\n",
    "    X = data[:, 1:]\n",
    "    y = data[:, 0] - 1  # Convert to zero-indexed\n",
    "    return X, y\n",
    "\n",
    "\n",
    "def train(model, X_train, y_train, optimizer, criterion=nn.CrossEntropyLoss(), epochs=1000):\n",
    "    losses = []\n",
    "    for epoch in range(epochs):\n",
    "        model.train()\n",
    "        optimizer.zero_grad()\n",
    "        outputs = model(X_train)\n",
    "        loss = criterion(outputs, y_train)\n",
    "        loss.backward()\n",
    "        optimizer.step()\n",
    "        losses.append(loss.item())\n",
    "    return losses\n",
    "        \n",
    "        \n",
    "def evaluate(model, X, y):\n",
    "    model.eval()\n",
    "    with torch.no_grad():\n",
    "        outputs = model(X)\n",
    "        _, predicted = torch.max(outputs, 1)\n",
    "        accuracy = (predicted == y).float().mean().item()\n",
    "    return accuracy\n",
    "    \n",
    "        \n",
    "def plot_decision_boundary(model, X, y, title):\n",
    "    x_min, x_max = X[:, 0].min() - 1, X[:, 0].max() + 1\n",
    "    y_min, y_max = X[:, 1].min() - 1, X[:, 1].max() + 1\n",
    "    xx, yy = np.meshgrid(np.arange(x_min, x_max, 0.01), np.arange(y_min, y_max, 0.01))\n",
    "    grid = torch.tensor(np.c_[xx.ravel(), yy.ravel()], dtype=torch.float32)\n",
    "    model.eval()\n",
    "    with torch.no_grad():\n",
    "        Z = model(grid)\n",
    "        _, Z = torch.max(Z, 1)\n",
    "        Z = Z.reshape(xx.shape)\n",
    "    plt.contourf(xx, yy, Z, alpha=0.5, cmap=plt.cm.get_cmap(\"Spectral\"))\n",
    "    plt.scatter(X[:, 0], X[:, 1], c=y, edgecolors='k', marker='o', cmap=plt.cm.get_cmap(\"Spectral\"))\n",
    "    plt.title(title)\n",
    "    plt.show()"
   ],
   "id": "b1e63cde8d06412d",
   "outputs": [],
   "execution_count": null
  },
  {
   "metadata": {},
   "cell_type": "code",
   "source": [
    "# load dataset\n",
    "X_train, y_train = load_dataset('iris-train.txt')\n",
    "X_test, y_test = load_dataset('iris-test.txt')\n",
    "# Preprocess data\n",
    "scaler = StandardScaler()\n",
    "X_train = scaler.fit_transform(X_train)\n",
    "X_test = scaler.transform(X_test)\n",
    "X_train = torch.tensor(X_train, dtype=torch.float32)\n",
    "y_train = torch.tensor(y_train, dtype=torch.long)\n",
    "X_test = torch.tensor(X_test, dtype=torch.float32)\n",
    "y_test = torch.tensor(y_test, dtype=torch.long)"
   ],
   "id": "45b2a18ffdb9dc36",
   "outputs": [],
   "execution_count": null
  },
  {
   "metadata": {},
   "cell_type": "code",
   "source": [
    "# Initialize models\n",
    "linear_model = LinearNN()\n",
    "nonlinear_model = NonlinearNN()\n",
    "criterion = nn.CrossEntropyLoss()\n",
    "linear_optimizer = optim.AdamW(linear_model.parameters(), lr=0.01)\n",
    "nonlinear_optimizer = optim.AdamW(nonlinear_model.parameters(), lr=0.01)\n",
    "\n",
    "# Train models\n",
    "linear_losses = train(linear_model, X_train, y_train, linear_optimizer)\n",
    "nonlinear_losses = train(nonlinear_model, X_train, y_train, nonlinear_optimizer)"
   ],
   "id": "7df688584c38ebaf",
   "outputs": [],
   "execution_count": null
  },
  {
   "metadata": {},
   "cell_type": "code",
   "source": [
    "# Plot curves\n",
    "fig, axes = plt.subplots(1, 2, figsize=(12, 5))\n",
    "\n",
    "axes[0].plot(linear_losses, label='Linear NN', color='blue')\n",
    "axes[0].set_xlabel('Epochs')\n",
    "axes[0].set_ylabel('Loss')\n",
    "axes[0].set_title('Linear NN Training Loss_kaiming')\n",
    "axes[0].legend()\n",
    "\n",
    "axes[1].plot(nonlinear_losses, label='Nonlinear NN', color='green')\n",
    "axes[1].set_xlabel('Epochs')\n",
    "axes[1].set_ylabel('Loss')\n",
    "axes[1].set_title('Nonlinear NN Training Loss_kaiming')\n",
    "axes[1].legend()\n",
    "\n",
    "plt.tight_layout()\n",
    "plt.show()"
   ],
   "id": "3e35b649554f6c5f",
   "outputs": [],
   "execution_count": null
  },
  {
   "metadata": {},
   "cell_type": "code",
   "source": [
    "# Evaluate accuracy\n",
    "linear_train_acc = evaluate(linear_model, X_train, y_train)\n",
    "linear_test_acc = evaluate(linear_model, X_test, y_test)\n",
    "nonlinear_train_acc = evaluate(nonlinear_model, X_train, y_train)\n",
    "nonlinear_test_acc = evaluate(nonlinear_model, X_test, y_test)\n",
    "print(f\"\\\\begin{{tabular}}{{c|c|c}}\")\n",
    "print(f\"Model & Train Accuracy & Test Accuracy \\\\\\\\ \\\\hline\")\n",
    "print(f\"Linear NN & {linear_train_acc:.2f} & {linear_test_acc:.2f} \\\\\\\\\")\n",
    "print(f\"Nonlinear NN & {nonlinear_train_acc:.2f} & {nonlinear_test_acc:.2f} \\\\\\\\\")\n",
    "print(f\"\\\\end{{tabular}}\")"
   ],
   "id": "d9d14c535ccf72ce",
   "outputs": [],
   "execution_count": null
  },
  {
   "metadata": {},
   "cell_type": "code",
   "source": [
    "# Plot decision boundary\n",
    "plot_decision_boundary(linear_model, X_train.numpy(), y_train.numpy(), 'Linear NN')\n",
    "plot_decision_boundary(nonlinear_model, X_test.numpy(), y_test.numpy(), 'Nonlinear NN')"
   ],
   "id": "a9dd3bbcd7129dea",
   "outputs": [],
   "execution_count": null
  },
  {
   "metadata": {},
   "cell_type": "code",
   "source": "",
   "id": "588c1c98f24376a1",
   "outputs": [],
   "execution_count": null
  }
 ],
 "metadata": {
  "kernelspec": {
   "display_name": "Python 3",
   "language": "python",
   "name": "python3"
  },
  "language_info": {
   "codemirror_mode": {
    "name": "ipython",
    "version": 2
   },
   "file_extension": ".py",
   "mimetype": "text/x-python",
   "name": "python",
   "nbconvert_exporter": "python",
   "pygments_lexer": "ipython2",
   "version": "2.7.6"
  }
 },
 "nbformat": 4,
 "nbformat_minor": 5
}
