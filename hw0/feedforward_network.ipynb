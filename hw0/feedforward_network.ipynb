{
 "cells": [
  {
   "cell_type": "code",
   "execution_count": null,
   "id": "initial_id",
   "metadata": {
    "collapsed": true
   },
   "outputs": [],
   "source": [
    "import torch\n",
    "import numpy as np\n",
    "import pandas as pd\n",
    "import torch.nn as nn\n",
    "import torch.optim as optim\n",
    "import matplotlib.pyplot as plt\n",
    "from sklearn.preprocessing import StandardScaler\n",
    "from sklearn.model_selection import train_test_split"
   ]
  },
  {
   "metadata": {},
   "cell_type": "code",
   "outputs": [],
   "execution_count": null,
   "source": [
    "def load_dataset(train, test):\n",
    "    return \n",
    "\n",
    "\n",
    "class LinearNN(nn.Module):\n",
    "    def __init__(self):\n",
    "        super(LinearNN, self).__init__()\n",
    "        self.fc = nn.Linear(2,3)\n",
    "    def forward(self, x):\n",
    "        return self.fc(x)\n",
    "    \n",
    "class NonLinearNN(nn.Module):\n",
    "    def __init__(self):\n",
    "        super(NonLinearNN, self).__init__()\n",
    "        self.hidden = nn.Linear(2,5)\n",
    "        self.relu = nn.ReLU()\n",
    "        self.output = nn.Linear(5,3)\n",
    "    def forward(self, x):\n",
    "        return self.output(self.relu(self.hidden(x)))\n",
    "\n",
    "def train(model, X_train, y_train, optimizer, criterion=nn.CrossEntropyLoss(), epochs=1000):\n",
    "    losses = []\n",
    "    for epoch in range(epochs):\n",
    "        model.train()\n",
    "        optimizer.zero_grad()\n",
    "        outputs = model(X_train)\n",
    "        loss = criterion(outputs, y_train)\n",
    "        loss.backward()\n",
    "        optimizer.step()\n",
    "        losses.append(loss.item())\n",
    "    return losses\n",
    "        \n",
    "def plot_decision_boundary(X, y):\n",
    "    "
   ],
   "id": "b1e63cde8d06412d"
  },
  {
   "metadata": {},
   "cell_type": "code",
   "outputs": [],
   "execution_count": null,
   "source": [
    "if __name__ == '__main__':\n",
    "    # load dataset\n",
    "    load_dataset()\n",
    "    \n",
    "    # Train model\n",
    "    \n",
    "    # Plot curves "
   ],
   "id": "7df688584c38ebaf"
  }
 ],
 "metadata": {
  "kernelspec": {
   "display_name": "Python 3",
   "language": "python",
   "name": "python3"
  },
  "language_info": {
   "codemirror_mode": {
    "name": "ipython",
    "version": 2
   },
   "file_extension": ".py",
   "mimetype": "text/x-python",
   "name": "python",
   "nbconvert_exporter": "python",
   "pygments_lexer": "ipython2",
   "version": "2.7.6"
  }
 },
 "nbformat": 4,
 "nbformat_minor": 5
}
