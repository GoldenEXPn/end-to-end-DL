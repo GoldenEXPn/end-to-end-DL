{
 "cells": [
  {
   "cell_type": "code",
   "id": "initial_id",
   "metadata": {
    "collapsed": true,
    "ExecuteTime": {
     "end_time": "2024-10-02T22:46:13.900924Z",
     "start_time": "2024-10-02T22:46:11.933966Z"
    }
   },
   "source": [
    "import torch\n",
    "import torch.nn as nn\n",
    "from utils.datasets import get_testset\n",
    "from utils.trained_models import get_trained_model"
   ],
   "outputs": [],
   "execution_count": 1
  },
  {
   "metadata": {
    "ExecuteTime": {
     "end_time": "2024-10-02T22:52:37.869788Z",
     "start_time": "2024-10-02T22:52:37.186579Z"
    }
   },
   "cell_type": "code",
   "source": [
    "device = torch.device(\"cuda\" if torch.cuda.is_available() else \"cpu\")\n",
    "trained_model = get_trained_model().to(device)\n",
    "test_loader = get_testset()\n",
    "\n",
    "activations = {}\n",
    "\n",
    "def relu_hook(module, input, output):\n",
    "    print(f\"Hook triggered for module: {module}\")\n",
    "    output = output.detach().cpu()\n",
    "    total_neurons = output.numel()\n",
    "    dead_neurons = (output == 0).sum().item()\n",
    "    activations[module] = dead_neurons / total_neurons\n",
    "\n",
    "# Register hooks for all ReLU layers\n",
    "for name, layer in trained_model.named_modules():\n",
    "    count = 0\n",
    "    if isinstance(layer, nn.ReLU):\n",
    "        print(++count)\n",
    "        print(f\"Registering hook for layer: {name}\")\n",
    "        layer.register_forward_hook(relu_hook)\n",
    "\n",
    "# Pass a batch of data\n",
    "trained_model.eval()\n",
    "with torch.no_grad():\n",
    "    for inputs, labels in test_loader:\n",
    "        inputs = inputs.to(device)\n",
    "        if inputs.dim() == 3:  # If 3D, add batch dimension\n",
    "            inputs = inputs.unsqueeze(0)\n",
    "\n",
    "        outputs = trained_model(inputs)\n",
    "        break\n",
    "\n",
    "# Display\n",
    "if activations:\n",
    "    for layer, percentage in activations.items():\n",
    "        print(f\"Layer: {layer}, Dying ReLU Percentage: {percentage:.3%}\")\n",
    "else:\n",
    "    print(\"No hooks were triggered or no ReLU layers were found.\")"
   ],
   "id": "8fbe58e46eec06da",
   "outputs": [
    {
     "name": "stderr",
     "output_type": "stream",
     "text": [
      "C:\\Users\\Tianyi Z\\Desktop\\school work\\CSC277\\HW1\\hw1_venv\\problem_2\\utils\\trained_models.py:82: FutureWarning: You are using `torch.load` with `weights_only=False` (the current default value), which uses the default pickle module implicitly. It is possible to construct malicious pickle data which will execute arbitrary code during unpickling (See https://github.com/pytorch/pytorch/blob/main/SECURITY.md#untrusted-models for more details). In a future release, the default value for `weights_only` will be flipped to `True`. This limits the functions that could be executed during unpickling. Arbitrary objects will no longer be allowed to be loaded via this mode unless they are explicitly allowlisted by the user via `torch.serialization.add_safe_globals`. We recommend you start setting `weights_only=True` for any use case where you don't have full control of the loaded file. Please open an issue on GitHub for any issues related to this experimental feature.\n",
      "  model.load_state_dict(torch.load('ckpt/trained_model.pt', map_location='cpu'))\n"
     ]
    },
    {
     "name": "stdout",
     "output_type": "stream",
     "text": [
      "Files already downloaded and verified\n",
      "No hooks were triggered or no ReLU layers were found.\n"
     ]
    }
   ],
   "execution_count": 3
  },
  {
   "metadata": {},
   "cell_type": "code",
   "outputs": [],
   "execution_count": null,
   "source": "",
   "id": "5ebfe14214bdb0c0"
  }
 ],
 "metadata": {
  "kernelspec": {
   "display_name": "Python 3",
   "language": "python",
   "name": "python3"
  },
  "language_info": {
   "codemirror_mode": {
    "name": "ipython",
    "version": 2
   },
   "file_extension": ".py",
   "mimetype": "text/x-python",
   "name": "python",
   "nbconvert_exporter": "python",
   "pygments_lexer": "ipython2",
   "version": "2.7.6"
  }
 },
 "nbformat": 4,
 "nbformat_minor": 5
}
