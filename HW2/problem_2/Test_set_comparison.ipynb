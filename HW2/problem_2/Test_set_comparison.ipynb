{
 "cells": [
  {
   "cell_type": "code",
   "id": "initial_id",
   "metadata": {
    "collapsed": true,
    "ExecuteTime": {
     "end_time": "2024-10-20T22:14:34.012936Z",
     "start_time": "2024-10-20T22:14:28.556838Z"
    }
   },
   "source": [
    "import clip\n",
    "import torch\n",
    "import pandas as pd\n",
    "from torch.utils.data import DataLoader\n",
    "from sklearn.metrics import accuracy_score\n",
    "import torchvision.transforms as transforms\n",
    "from sklearn.preprocessing import LabelEncoder"
   ],
   "outputs": [],
   "execution_count": 1
  },
  {
   "metadata": {
    "ExecuteTime": {
     "end_time": "2024-10-20T22:14:36.272580Z",
     "start_time": "2024-10-20T22:14:36.258070Z"
    }
   },
   "cell_type": "code",
   "source": [
    "# Hard coded values for test dataset question types\n",
    "counts = [1,2,3,4,5]\n",
    "counts = [str(i) for i in counts]\n",
    "colors = ['black', 'brown', 'red', 'white']\n",
    "positions = [\"bed\",\"blinds\",\"books\",\"bookshelf\",\"cabinet\",\"chair\",\"clothes\",\"curtain\",\"door\",\"garbage_bin\",\"lamp\",\"mirror\",\"photo\",\"picture\",\"pillow\",\"shelves\",\"sofa\",\"table\",\"television\",\"towel\",\"window\"]"
   ],
   "id": "57c7ad3caffb3c3f",
   "outputs": [],
   "execution_count": 2
  },
  {
   "metadata": {
    "ExecuteTime": {
     "end_time": "2024-10-20T22:14:42.725973Z",
     "start_time": "2024-10-20T22:14:39.048002Z"
    }
   },
   "cell_type": "code",
   "source": [
    "# Recreate model architecture\n",
    "device = torch.device('cuda' if torch.cuda.is_available() else 'cpu')\n",
    "from ResNet_SBERT import ResNet_sBERT\n",
    "from CLIP_encoder_decoder import CLIP, VQADataset"
   ],
   "id": "5fcc15ef3d8a7196",
   "outputs": [
    {
     "name": "stderr",
     "output_type": "stream",
     "text": [
      "C:\\opt\\conda_envs\\277hw\\lib\\site-packages\\sentence_transformers\\cross_encoder\\CrossEncoder.py:13: TqdmWarning: IProgress not found. Please update jupyter and ipywidgets. See https://ipywidgets.readthedocs.io/en/stable/user_install.html\n",
      "  from tqdm.autonotebook import tqdm, trange\n"
     ]
    }
   ],
   "execution_count": 3
  },
  {
   "metadata": {},
   "cell_type": "markdown",
   "source": "# Prepare test data",
   "id": "cc4bdf6cfa6b2a7f"
  },
  {
   "metadata": {
    "ExecuteTime": {
     "end_time": "2024-10-20T22:23:39.223020Z",
     "start_time": "2024-10-20T22:23:39.211599Z"
    }
   },
   "cell_type": "code",
   "source": [
    "test_data = pd.read_csv('new_data_test.csv')\n",
    "\n",
    "# Encode answers to labels\n",
    "le = LabelEncoder()\n",
    "le.fit(test_data['answer'])\n",
    "test_data['label'] = le.transform(test_data['answer'])\n",
    "\n",
    "# Retrieve dataset\n",
    "img_dir = '../data/images'\n",
    "# Transform images\n",
    "image_transforms = transforms.Compose([\n",
    "    transforms.Resize((224, 224)),\n",
    "    transforms.ToTensor(),\n",
    "    transforms.Normalize(mean=[0.485, 0.456, 0.406], std=[0.229, 0.224, 0.225])\n",
    "])\n",
    "test_dataset = VQADataset(test_data, img_dir, image_transforms)\n",
    "# Create dataloader\n",
    "test_loader = DataLoader(test_dataset, batch_size=64, num_workers=4, pin_memory=True)"
   ],
   "id": "9dd716c117699bee",
   "outputs": [],
   "execution_count": 5
  },
  {
   "metadata": {
    "ExecuteTime": {
     "end_time": "2024-10-20T22:35:42.895842Z",
     "start_time": "2024-10-20T22:35:42.876827Z"
    }
   },
   "cell_type": "code",
   "source": [
    "def run_inference(model, data_loader, device):\n",
    "    model.eval()\n",
    "    all_predictions = []\n",
    "    with torch.no_grad():\n",
    "        for images, questions, labels in data_loader:\n",
    "            images, labels = images.to(device), labels.to(device)\n",
    "            questions = list(questions)\n",
    "            output = model(images, questions)\n",
    "            _, predicted = torch.max(output, 1)\n",
    "            all_predictions.extend(predicted.cpu().numpy())\n",
    "    return all_predictions\n",
    "\n",
    "\n",
    "def compute_accuracies(data):\n",
    "    counts_mask = data['answer'].isin(counts)\n",
    "    colors_mask = data['answer'].isin(colors)\n",
    "    positions_mask = data['answer'].isin(positions)\n",
    "    counts_data = data[counts_mask].reset_index(drop=True)\n",
    "    colors_data = data[colors_mask].reset_index(drop=True)\n",
    "    positions_data = data[positions_mask].reset_index(drop=True)\n",
    "    counts_acc = accuracy_score(counts_data['label'], counts_data['predicted_label'])\n",
    "    color_acc = accuracy_score(colors_data['label'], colors_data['predicted_label'])\n",
    "    positions_acc = accuracy_score(positions_data['label'], positions_data['predicted_label'])\n",
    "    print(f'Counts accuracy: {counts_acc}, Color accuracy: {color_acc}, Positions accuracy: {positions_acc}')"
   ],
   "id": "c0c59cb66f6f2877",
   "outputs": [],
   "execution_count": 11
  },
  {
   "metadata": {},
   "cell_type": "markdown",
   "source": "# Test on ResNet_sBERT model\n",
   "id": "ad51a3cc6d09f3d5"
  },
  {
   "metadata": {
    "ExecuteTime": {
     "end_time": "2024-10-20T22:35:54.974845Z",
     "start_time": "2024-10-20T22:35:44.521665Z"
    }
   },
   "cell_type": "code",
   "source": [
    "# Run inference to compute test accuracy\n",
    "model = ResNet_sBERT().to(device)\n",
    "model.load_state_dict(torch.load('ResNet_SBERT.pth'), weights_only=True)\n",
    "\n",
    "# Test\n",
    "model.eval()\n",
    "predictions = run_inference(model, test_loader, device)\n",
    "test_data['predicted_label'] = predictions\n",
    "test_data['predicted_answer'] = le.inverse_transform(predictions)\n",
    "compute_accuracies(test_data)"
   ],
   "id": "a9f83e8519d14bc2",
   "outputs": [
    {
     "name": "stderr",
     "output_type": "stream",
     "text": [
      "C:\\opt\\conda_envs\\277hw\\lib\\site-packages\\transformers\\tokenization_utils_base.py:1601: FutureWarning: `clean_up_tokenization_spaces` was not set. It will be set to `True` by default. This behavior will be depracted in transformers v4.45, and will be then set to `False` by default. For more details check this issue: https://github.com/huggingface/transformers/issues/31884\n",
      "  warnings.warn(\n",
      "C:\\Users\\Tianyi Z\\AppData\\Local\\Temp\\ipykernel_85396\\3503183823.py:3: FutureWarning: You are using `torch.load` with `weights_only=False` (the current default value), which uses the default pickle module implicitly. It is possible to construct malicious pickle data which will execute arbitrary code during unpickling (See https://github.com/pytorch/pytorch/blob/main/SECURITY.md#untrusted-models for more details). In a future release, the default value for `weights_only` will be flipped to `True`. This limits the functions that could be executed during unpickling. Arbitrary objects will no longer be allowed to be loaded via this mode unless they are explicitly allowlisted by the user via `torch.serialization.add_safe_globals`. We recommend you start setting `weights_only=True` for any use case where you don't have full control of the loaded file. Please open an issue on GitHub for any issues related to this experimental feature.\n",
      "  model.load_state_dict(torch.load('ResNet_SBERT.pth'))\n"
     ]
    },
    {
     "name": "stdout",
     "output_type": "stream",
     "text": [
      "Counts accuracy: 0.37037037037037035, Color accuracy: 0.49382716049382713, Positions accuracy: 0.3723756906077348\n"
     ]
    }
   ],
   "execution_count": 12
  },
  {
   "metadata": {},
   "cell_type": "markdown",
   "source": "# Test on CLIP model",
   "id": "d8572bee38b09282"
  },
  {
   "metadata": {
    "ExecuteTime": {
     "end_time": "2024-10-20T22:41:06.951687Z",
     "start_time": "2024-10-20T22:40:55.208838Z"
    }
   },
   "cell_type": "code",
   "source": [
    "# Run inference to compute test accuracy\n",
    "clip_model, clip_preprocess = clip.load('ViT-B/32', device=device)\n",
    "clip_model = clip_model.float().to(device)\n",
    "clip_model.eval()\n",
    "model = CLIP(clip_model).to(device)\n",
    "model.load_state_dict(torch.load('CLIP_encoder_decoder.pth'))\n",
    "\n",
    "# Test\n",
    "model.eval()\n",
    "predictions = run_inference(model, test_loader, device)\n",
    "test_data['predicted_label'] = predictions\n",
    "test_data['predicted_answer'] = le.inverse_transform(predictions)\n",
    "compute_accuracies(test_data)"
   ],
   "id": "7be7e8b427029ac6",
   "outputs": [
    {
     "name": "stderr",
     "output_type": "stream",
     "text": [
      "C:\\Users\\Tianyi Z\\AppData\\Local\\Temp\\ipykernel_85396\\1882782094.py:6: FutureWarning: You are using `torch.load` with `weights_only=False` (the current default value), which uses the default pickle module implicitly. It is possible to construct malicious pickle data which will execute arbitrary code during unpickling (See https://github.com/pytorch/pytorch/blob/main/SECURITY.md#untrusted-models for more details). In a future release, the default value for `weights_only` will be flipped to `True`. This limits the functions that could be executed during unpickling. Arbitrary objects will no longer be allowed to be loaded via this mode unless they are explicitly allowlisted by the user via `torch.serialization.add_safe_globals`. We recommend you start setting `weights_only=True` for any use case where you don't have full control of the loaded file. Please open an issue on GitHub for any issues related to this experimental feature.\n",
      "  model.load_state_dict(torch.load('CLIP_encoder_decoder.pth'))\n"
     ]
    },
    {
     "name": "stdout",
     "output_type": "stream",
     "text": [
      "Counts accuracy: 0.38271604938271603, Color accuracy: 0.4567901234567901, Positions accuracy: 0.4220994475138122\n"
     ]
    }
   ],
   "execution_count": 13
  }
 ],
 "metadata": {
  "kernelspec": {
   "display_name": "Python 3",
   "language": "python",
   "name": "python3"
  },
  "language_info": {
   "codemirror_mode": {
    "name": "ipython",
    "version": 2
   },
   "file_extension": ".py",
   "mimetype": "text/x-python",
   "name": "python",
   "nbconvert_exporter": "python",
   "pygments_lexer": "ipython2",
   "version": "2.7.6"
  }
 },
 "nbformat": 4,
 "nbformat_minor": 5
}
